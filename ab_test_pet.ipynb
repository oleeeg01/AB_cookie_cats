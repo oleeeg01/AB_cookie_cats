{
 "cells": [
  {
   "cell_type": "markdown",
   "id": "3d029d77-018a-460d-b297-5efbdeef9784",
   "metadata": {},
   "source": [
    "# A/B Тестирование в Cookie Cats  \n",
    "## Описание датасета  \n",
    "Этот датасет содержит результаты A/B теста мобильной игры **Cookie Cats**.  \n",
    "Цель теста - выяснить, как изменение уровня первого \"замка\" влияет на удержание игроков.  \n",
    "\n",
    "### Данные в датасете:\n",
    "В таблице 90189 игроков, которые были случайным образом распределены в две группы:\n",
    "- **`Контрольная группа (gate_30)`** - игроки, у которых \"замок\" стоял на 30-м уровне.\n",
    "- **`Тестовая группа (gate_40)`** - игроки, у которых \"замок\" стоял на 40-м уровне.\n",
    "\n",
    "Структура датасета:\n",
    "- **`userid`** - ID игрока  \n",
    "- **`version`** - Группа (`gate_30` или `gate_40`)  \n",
    "- **`sum_gamerounds`** - Количество сыгранных раундов  \n",
    "- **`retention_1`** - Вернулся ли игрок через 1 день (True/False)  \n",
    "- **`retention_7`** - Вернулся ли игрок через 7 дней (True/False)  \n",
    "\n",
    "## Цель анализа:\n",
    "Основная цель - определить, как изменение расположения первого \"замка\" (с уровня 30 на уровень 40) влияет на удержание игроков и их активность. Это поможет понять, какое из изменений способствует повышению вовлеченности пользователей."
   ]
  },
  {
   "cell_type": "markdown",
   "id": "964c22ab-fe90-4f5a-899a-1ffad92c5e94",
   "metadata": {},
   "source": [
    "## 1. Загрузка и преобразования данных"
   ]
  },
  {
   "cell_type": "code",
   "execution_count": 23,
   "id": "37df938d-030d-4ef2-8167-426b78376b73",
   "metadata": {},
   "outputs": [
    {
     "name": "stdout",
     "output_type": "stream",
     "text": [
      "Warning: Looks like you're using an outdated `kagglehub` version (installed: 0.3.6), please consider upgrading to the latest version (0.3.10).\n",
      "Path to dataset files: C:\\Users\\Олег\\.cache\\kagglehub\\datasets\\mursideyarkin\\mobile-games-ab-testing-cookie-cats\\versions\\1\n"
     ]
    }
   ],
   "source": [
    "import pandas as pd\n",
    "import numpy as np\n",
    "import matplotlib.pyplot as plt\n",
    "import seaborn as sns\n",
    "import scipy.stats as stats\n",
    "\n",
    "import kagglehub\n",
    "\n",
    "# Скачиваем датасет\n",
    "path = kagglehub.dataset_download(\"mursideyarkin/mobile-games-ab-testing-cookie-cats\")\n",
    "print(\"Path to dataset files:\", path)"
   ]
  },
  {
   "cell_type": "code",
   "execution_count": 27,
   "id": "afa85550-34b3-46b6-894d-e9f0239c891d",
   "metadata": {},
   "outputs": [],
   "source": [
    "# Загружаем данные\n",
    "df = pd.read_csv(\"../.cache/kagglehub/datasets/mursideyarkin/mobile-games-ab-testing-cookie-cats/versions/1/cookie_cats.csv\")"
   ]
  },
  {
   "cell_type": "code",
   "execution_count": 28,
   "id": "bb1ac669-2266-4782-845a-881481a5a9e8",
   "metadata": {},
   "outputs": [
    {
     "name": "stdout",
     "output_type": "stream",
     "text": [
      "   userid  version  sum_gamerounds  retention_1  retention_7\n",
      "0     116  gate_30               3        False        False\n",
      "1     337  gate_30              38         True        False\n",
      "2     377  gate_40             165         True        False\n",
      "3     483  gate_40               1        False        False\n",
      "4     488  gate_40             179         True         True\n"
     ]
    }
   ],
   "source": [
    "# Посмотрим структуру данных\n",
    "print(df.head())"
   ]
  },
  {
   "cell_type": "markdown",
   "id": "4ddc403f-9822-45ba-a48d-915c230e3ce1",
   "metadata": {},
   "source": [
    "Проверим данные, на наличие дубликатов, нулевых значений, узнаем типы данных"
   ]
  },
  {
   "cell_type": "code",
   "execution_count": 42,
   "id": "cdb3f2c9-88c1-4d5d-9d72-eaf84a2366e7",
   "metadata": {},
   "outputs": [
    {
     "name": "stdout",
     "output_type": "stream",
     "text": [
      "Количество дубликатов 0\n",
      "\n",
      "Количество пропусков по столбцам \n",
      "userid            0\n",
      "version           0\n",
      "sum_gamerounds    0\n",
      "retention_1       0\n",
      "retention_7       0\n",
      "dtype: int64\n",
      "\n",
      "<class 'pandas.core.frame.DataFrame'>\n",
      "RangeIndex: 90189 entries, 0 to 90188\n",
      "Data columns (total 5 columns):\n",
      " #   Column          Non-Null Count  Dtype \n",
      "---  ------          --------------  ----- \n",
      " 0   userid          90189 non-null  int64 \n",
      " 1   version         90189 non-null  object\n",
      " 2   sum_gamerounds  90189 non-null  int64 \n",
      " 3   retention_1     90189 non-null  bool  \n",
      " 4   retention_7     90189 non-null  bool  \n",
      "dtypes: bool(2), int64(2), object(1)\n",
      "memory usage: 2.2+ MB\n",
      "None\n"
     ]
    }
   ],
   "source": [
    "# Проверяем на дубликаты\n",
    "print(\"Количество дубликатов\", df.duplicated().sum())\n",
    "print()\n",
    "\n",
    "# Проверка на пустые значения по столбцам\n",
    "print(\"Количество пропусков по столбцам \\n\", df.isna().sum(), sep='')\n",
    "print()\n",
    "\n",
    "# Посмотрим на типы данных и общую информацию о датасете\n",
    "print(df.info())"
   ]
  },
  {
   "cell_type": "markdown",
   "id": "9f36e496-10ee-4be2-bbec-b0a409b34ac1",
   "metadata": {},
   "source": [
    "Заметим, что в датасете не встречаются дубликаты, и пустые значения. Также данные имеют верные типы. \n",
    "Далее посмотрим на основные стат. характеристики."
   ]
  },
  {
   "cell_type": "code",
   "execution_count": 45,
   "id": "5b4b2c06-d51b-45d5-aaa5-f0dd279f21e6",
   "metadata": {},
   "outputs": [
    {
     "data": {
      "text/html": [
       "<div>\n",
       "<style scoped>\n",
       "    .dataframe tbody tr th:only-of-type {\n",
       "        vertical-align: middle;\n",
       "    }\n",
       "\n",
       "    .dataframe tbody tr th {\n",
       "        vertical-align: top;\n",
       "    }\n",
       "\n",
       "    .dataframe thead tr th {\n",
       "        text-align: left;\n",
       "    }\n",
       "\n",
       "    .dataframe thead tr:last-of-type th {\n",
       "        text-align: right;\n",
       "    }\n",
       "</style>\n",
       "<table border=\"1\" class=\"dataframe\">\n",
       "  <thead>\n",
       "    <tr>\n",
       "      <th></th>\n",
       "      <th colspan=\"8\" halign=\"left\">sum_gamerounds</th>\n",
       "    </tr>\n",
       "    <tr>\n",
       "      <th></th>\n",
       "      <th>count</th>\n",
       "      <th>mean</th>\n",
       "      <th>std</th>\n",
       "      <th>min</th>\n",
       "      <th>25%</th>\n",
       "      <th>50%</th>\n",
       "      <th>75%</th>\n",
       "      <th>max</th>\n",
       "    </tr>\n",
       "    <tr>\n",
       "      <th>version</th>\n",
       "      <th></th>\n",
       "      <th></th>\n",
       "      <th></th>\n",
       "      <th></th>\n",
       "      <th></th>\n",
       "      <th></th>\n",
       "      <th></th>\n",
       "      <th></th>\n",
       "    </tr>\n",
       "  </thead>\n",
       "  <tbody>\n",
       "    <tr>\n",
       "      <th>gate_30</th>\n",
       "      <td>44700.0</td>\n",
       "      <td>52.456264</td>\n",
       "      <td>256.716423</td>\n",
       "      <td>0.0</td>\n",
       "      <td>5.0</td>\n",
       "      <td>17.0</td>\n",
       "      <td>50.0</td>\n",
       "      <td>49854.0</td>\n",
       "    </tr>\n",
       "    <tr>\n",
       "      <th>gate_40</th>\n",
       "      <td>45489.0</td>\n",
       "      <td>51.298776</td>\n",
       "      <td>103.294416</td>\n",
       "      <td>0.0</td>\n",
       "      <td>5.0</td>\n",
       "      <td>16.0</td>\n",
       "      <td>52.0</td>\n",
       "      <td>2640.0</td>\n",
       "    </tr>\n",
       "  </tbody>\n",
       "</table>\n",
       "</div>"
      ],
      "text/plain": [
       "        sum_gamerounds                                                      \n",
       "                 count       mean         std  min  25%   50%   75%      max\n",
       "version                                                                     \n",
       "gate_30        44700.0  52.456264  256.716423  0.0  5.0  17.0  50.0  49854.0\n",
       "gate_40        45489.0  51.298776  103.294416  0.0  5.0  16.0  52.0   2640.0"
      ]
     },
     "execution_count": 45,
     "metadata": {},
     "output_type": "execute_result"
    }
   ],
   "source": [
    "df.groupby(by='version')[['sum_gamerounds']].describe()"
   ]
  },
  {
   "cell_type": "markdown",
   "id": "bfd45659-3d8a-4738-bb62-b1ec42cb3110",
   "metadata": {},
   "source": [
    "Глядя на эти данные можно сделать следующие выводы, количество элементов групп примерно одинаково. В группе gate_30 наблюдается чуть большее значение\n",
    "среднего, станадартное отклонение групп различается более чем в 2 раза. Также замечаем, что максимальное количество пройденных уровней в группе gate_30, \n",
    "намного превышает аналогичный показатели в gate_40. Изучим данный момент подробнее."
   ]
  },
  {
   "cell_type": "code",
   "execution_count": 84,
   "id": "136bebff-0a5f-4526-8aff-741d2be70147",
   "metadata": {},
   "outputs": [
    {
     "name": "stdout",
     "output_type": "stream",
     "text": [
      "   version  sum_gamerounds\n",
      "0  gate_30           49854\n",
      "1  gate_30            2961\n",
      "2  gate_30            2438\n",
      "3  gate_30            2251\n",
      "4  gate_30            2156\n",
      "   version  sum_gamerounds\n",
      "0  gate_40            2640\n",
      "1  gate_40            2294\n",
      "2  gate_40            2124\n",
      "3  gate_40            2063\n",
      "4  gate_40            2015\n"
     ]
    }
   ],
   "source": [
    "# Топ 5 пользователей по количество раундов в gate_30\n",
    "print(df[df['version'] == 'gate_30'][['version','sum_gamerounds']].sort_values('sum_gamerounds',ascending=False).head(5).reset_index(drop=True))\n",
    "\n",
    "# Топ 5 пользователей по количеству раундов в gate_40\n",
    "print(df[df['version'] == 'gate_40'][['version','sum_gamerounds']].sort_values('sum_gamerounds',ascending=False).head(5).reset_index(drop=True))"
   ]
  },
  {
   "cell_type": "markdown",
   "id": "9c7dbcfe-afe8-4eb1-a8d5-d9048e46f768",
   "metadata": {},
   "source": [
    "Заметим, что значение 49854 в группе gate_30 слишком сильно отличается от всех остальных, избавимся от данного выброса. После заново посмотрим на основные стат. характеристики."
   ]
  },
  {
   "cell_type": "code",
   "execution_count": 92,
   "id": "660b5a00-0224-49ed-9db6-3a7cb6515617",
   "metadata": {},
   "outputs": [
    {
     "name": "stdout",
     "output_type": "stream",
     "text": [
      "        sum_gamerounds                                                     \n",
      "                 count       mean         std  min  25%   50%   75%     max\n",
      "version                                                                    \n",
      "gate_30        44699.0  51.342111  102.057598  0.0  5.0  17.0  50.0  2961.0\n",
      "gate_40        45489.0  51.298776  103.294416  0.0  5.0  16.0  52.0  2640.0\n"
     ]
    }
   ],
   "source": [
    "# Удаляем выброс\n",
    "df = df.query(\"sum_gamerounds != 49854\")\n",
    "\n",
    "print(df.groupby(by='version')[['sum_gamerounds']].describe())"
   ]
  },
  {
   "cell_type": "markdown",
   "id": "24ee406e-d881-444f-ae75-c02f92f20498",
   "metadata": {},
   "source": [
    "В группе gate_30 и gate_40, после удаления выброса схожими значениями также стали среднее и стандарное отклонение,\n",
    "максимальные же значения пройденных уровней теперь выглядят адекватно. Перейдем к дальнейшему анализу."
   ]
  },
  {
   "cell_type": "markdown",
   "id": "233fc9d4-84a8-4ff2-8191-7b9e99d60cd0",
   "metadata": {},
   "source": [
    "### 2. Визуализация данных"
   ]
  },
  {
   "cell_type": "markdown",
   "id": "55972e10-13c4-4d2d-bc59-174fb6afb86f",
   "metadata": {},
   "source": [
    "Визуализурем наши данные. Посмотрим на их распределения, и поймем какие стат. тесты будет правильно применять."
   ]
  },
  {
   "cell_type": "markdown",
   "id": "bd1ffa85-86fa-4dfe-9c4a-85d797261010",
   "metadata": {},
   "source": [
    "Для начала высчитаем Retention 1 и 7 дней"
   ]
  },
  {
   "cell_type": "code",
   "execution_count": 187,
   "id": "f12f5301-19de-4b3d-aaca-05b53d93802b",
   "metadata": {},
   "outputs": [
    {
     "name": "stdout",
     "output_type": "stream",
     "text": [
      "         retention_1  retention_7  sum_gamerounds\n",
      "version                                          \n",
      "gate_30     0.448198     0.190183       51.342111\n",
      "gate_40     0.442283     0.182000       51.298776\n"
     ]
    }
   ],
   "source": [
    "data = df.groupby('version')[['retention_1','retention_7','sum_gamerounds']].mean()\n",
    "print(retention)"
   ]
  },
  {
   "cell_type": "code",
   "execution_count": 205,
   "id": "96fea4ac-cf66-4d68-bc69-8812b8ab70da",
   "metadata": {},
   "outputs": [
    {
     "data": {
      "image/png": "[encoded data removed]",
      "text/plain": [
       "<Figure size 1200x400 with 3 Axes>"
      ]
     },
     "metadata": {},
     "output_type": "display_data"
    }
   ],
   "source": [
    "# Barplot для Retention 1ого и 7ого дня\n",
    "plt.figure(figsize=(12, 4))\n",
    "\n",
    "# Retention 1 дня\n",
    "plt.subplot(1, 3, 1)\n",
    "sns.barplot(data=data, x=data.index, y='retention_1', hue='retention_1')\n",
    "plt.ylim(0.4,0.45)\n",
    "plt.title('Retention 1 дня')\n",
    "plt.xlabel('Группа')\n",
    "plt.ylabel('Доля вернувшихся')\n",
    "plt.legend([], [], frameon=False)\n",
    "\n",
    "# Retention 7 дня\n",
    "plt.subplot(1, 3, 2)\n",
    "sns.barplot(data=data, x=data.index, y='retention_7', hue='retention_7')\n",
    "plt.ylim(0.15,0.2)\n",
    "plt.title('Retention 7 дня')\n",
    "plt.xlabel('Группа')\n",
    "plt.ylabel('Доля вернувшихся')\n",
    "plt.legend([], [], frameon=False)\n",
    "\n",
    "##############################################################################\n",
    "# Barplot для sum_gamerounds\n",
    "plt.subplot(1, 3, 3)\n",
    "sns.barplot(data=data, x=data.index, y='sum_gamerounds', hue='sum_gamerounds')\n",
    "plt.ylim(51, 51.5)\n",
    "plt.title('Среднее количество пройденных уровней')\n",
    "plt.xlabel('Группа')\n",
    "plt.ylabel('sum_gamerounds')\n",
    "plt.legend([], [], frameon=False)\n",
    "plt.tight_layout()\n",
    "plt.show()"
   ]
  },
  {
   "cell_type": "markdown",
   "id": "e9b0825b-4a6e-42c5-bbac-72bf09ffdd89",
   "metadata": {},
   "source": [
    "Заметим, что в группе gate_30, более высокий Retention как 1ого дня так и 7ого, а также среднее значение пройденных уровней. Но является ли эти различия статистически значимымм определим в следующем разделе. Также посмотрим на распредление пройденных уровней."
   ]
  },
  {
   "cell_type": "code",
   "execution_count": 232,
   "id": "8c2d648b-c033-4d42-b0c3-cd2fe84891ce",
   "metadata": {},
   "outputs": [
    {
     "data": {
      "image/png": "[encoded data removed]",
      "text/plain": [
       "<Figure size 1200x400 with 3 Axes>"
      ]
     },
     "metadata": {},
     "output_type": "display_data"
    }
   ],
   "source": [
    "# Гистограмма для sum_gamerounds\n",
    "plt.figure(figsize=(12, 4))\n",
    "plt.subplot(1,3,1)\n",
    "sns.histplot(data=df, x='sum_gamerounds', hue='version', bins=100, palette='inferno', multiple='dodge')\n",
    "plt.title('Распределение по группам')\n",
    "plt.xlabel('sum_gamerounds')\n",
    "plt.ylabel('Количество пользователей')\n",
    "\n",
    "plt.subplot(1,3,2)\n",
    "sns.histplot(data=df, x='sum_gamerounds', hue='version', bins=100, palette='inferno', multiple='dodge')\n",
    "plt.xlim(0,500)\n",
    "plt.title('Распределение по группам')\n",
    "plt.xlabel('sum_gamerounds')\n",
    "plt.ylabel('Количество пользователей')\n",
    "\n",
    "plt.subplot(1,3,3)\n",
    "sns.histplot(data=df, x='sum_gamerounds', hue='version', bins=100, palette='inferno', multiple='dodge')\n",
    "plt.xlim(0,200)\n",
    "plt.title('Распределение по группам')\n",
    "plt.xlabel('sum_gamerounds')\n",
    "plt.ylabel('Количество пользователей')\n",
    "plt.tight_layout()\n",
    "plt.show()"
   ]
  },
  {
   "cell_type": "markdown",
   "id": "71241072-f407-4979-8902-4528516a1dac",
   "metadata": {},
   "source": [
    "Замечаем, что распределение количества пройденных уровней является экспоненциальным."
   ]
  },
  {
   "cell_type": "markdown",
   "id": "079939e3-8581-4f26-87fd-3a862e43e4c0",
   "metadata": {},
   "source": [
    "### 3. Проведение стастических тестов"
   ]
  },
  {
   "cell_type": "markdown",
   "id": "2a1a63cf-65fb-4460-beeb-9003350b7049",
   "metadata": {},
   "source": [
    "#### 3.1 Для анализа Retention, т.е. сравнения долей воспользуемся стат. тестом Хи-квадрат"
   ]
  },
  {
   "cell_type": "markdown",
   "id": "c645f28e-86e0-4986-b744-602cba7fad06",
   "metadata": {},
   "source": [
    "**`Для Retention 1 дня:`**  <br>\n",
    "**`H0:`**  Доля игроков, вернувшихся через 1 день, в группе gate_30 равна доле игроков, вернувшихся через 1 день, в группе gate_40. <br>\n",
    "**`H1:`**  Доля игроков, вернувшихся через 1 день, в группе gate_30 отличается от доли игроков, вернувшихся через 1 день, в группе gate_40.\n",
    "\n",
    "**`Для Retention 7 дня:`**  <br>\n",
    "**`H0:`**  Доля игроков, вернувшихся через 7 дней, в группе gate_30 равна доле игроков, вернувшихся через 7 дней, в группе gate_40. <br>\n",
    "**`H1:`**  Доля игроков, вернувшихся через 7 дней, в группе gate_30 отличается от доли игроков, вернувшихся через 7 дней, в группе gate_40."
   ]
  },
  {
   "cell_type": "code",
   "execution_count": 267,
   "id": "92cc569b-2139-4113-8bb4-8796854c2ab9",
   "metadata": {},
   "outputs": [
    {
     "name": "stdout",
     "output_type": "stream",
     "text": [
      "Хи-квадрат тест для Retention 1 дня: chi2-statistic=3.169835543170799, p-value=0.07500999897705692\n",
      "Хи-квадрат тест для Retention 7 дня: chi2-statistic=9.915275528905669, p-value=0.0016391259678654423\n"
     ]
    }
   ],
   "source": [
    "from scipy import stats\n",
    "# посчитаем сколько пользователей заходил в соотвествующие дни\n",
    "retention_1_gate_30 = df[(df['version']=='gate_30') & (df['retention_1'] == True)]['retention_1'].count() # зашло на 1ый день в группе gate_30\n",
    "retention_7_gate_30 = df[(df['version']=='gate_30') & (df['retention_7'] == True)]['retention_7'].count() # зашло на 7ой день в группе gate_30\n",
    "n_gate_30 = df[df['version']=='gate_30']['retention_1'].count()                                           # зашло на 0ой день в группе gate_30\n",
    "\n",
    "retention_1_gate_40 = df[(df['version']=='gate_40') & (df['retention_1'] == True)]['retention_1'].count() # зашло на 1ый день в группе gate_40\n",
    "retention_7_gate_40 = df[(df['version']=='gate_40') & (df['retention_7'] == True)]['retention_7'].count() # зашло на 7ый день в группе gate_40\n",
    "n_gate_40 = df[df['version']=='gate_40']['retention_1'].count()                                           # зашдл на 0ой день в группе gate_40\n",
    "\n",
    "# Создаем таблицу сопряженности для Retention 1 дня\n",
    "table_retention_1 = [\n",
    "    [retention_1_gate_30, n_gate_30 - retention_1_gate_30],  # gate_30: вернулись/не вернулись\n",
    "    [retention_1_gate_40, n_gate_40 - retention_1_gate_40]   # gate_40: вернулись/не вернулись\n",
    "]\n",
    "\n",
    "# Создаем таблицу сопряженности для Retention 7 дня\n",
    "table_retention_7 = [\n",
    "    [retention_7_gate_30, n_gate_30 - retention_7_gate_30],  # gate_30: вернулись/не вернулись\n",
    "    [retention_7_gate_40, n_gate_40 - retention_7_gate_40]   # gate_40: вернулись/не вернулись\n",
    "]\n",
    "\n",
    "# Хи-квадрат тест\n",
    "chi2_stat, p_value, dof, expected = stats.chi2_contingency(table_retention_1)\n",
    "print(f\"Хи-квадрат тест для Retention 1 дня: chi2-statistic={chi2_stat}, p-value={p_value}\")\n",
    "\n",
    "# Хи-квадрат тест\n",
    "chi2_stat, p_value, dof, expected = stats.chi2_contingency(table_retention_7)\n",
    "print(f\"Хи-квадрат тест для Retention 7 дня: chi2-statistic={chi2_stat}, p-value={p_value}\")"
   ]
  },
  {
   "cell_type": "markdown",
   "id": "6efc8890-eb7c-4671-b467-75765a51798f",
   "metadata": {},
   "source": [
    "**`Вывод:`** <br>\n",
    "**`Retention 1 дня:`** <br>\n",
    "Различия между группами gate_30 и gate_40 не являются статистически значимыми (p-value = 0.075 > 0.05).\n",
    "**`Это означает, что изменение уровня первого \"замка\" с 30 на 40 не оказывает значимого влияния на удержание игроков через 1 день.`**\n",
    "\n",
    "**`Retention 7 дня:`** <br>\n",
    "Различия между группами gate_30 и gate_40 являются статистически значимыми (p-value = 0.0016 < 0.05).\n",
    "**`Это означает, что изменение уровня первого \"замка\" с 30 на 40 оказывает значимое влияние на удержание игроков через 7 дней. Группа gate_30 показывает более высокие значения Retention 7 дней по сравнению с группой gate_40.`**"
   ]
  },
  {
   "cell_type": "markdown",
   "id": "c7233ec2-4e1a-4ced-8baa-b187d731c405",
   "metadata": {},
   "source": [
    "#### 3.2 Для анализа средних значений пройденных уровней воспользуемя бутстреппингом."
   ]
  },
  {
   "cell_type": "markdown",
   "id": "c2e5bddd-2706-4729-9f2d-807e4e117552",
   "metadata": {},
   "source": [
    "**`Для sum_gamerounds`**  <br>\n",
    "**`H0:`**  Среднее количество пройденных уровней в группе gate_30 и группе gate_40 не различается. <br>\n",
    "**`H1:`**  Среднее количество пройденных уровней в группе gate_30 и группе gate_40 различается.\n",
    "\n",
    "Для сравнения средних значений пройденных уровней воспользуемя бутстреппингом. В данном случае он хорошо себя покажет, т.к. для него не\n",
    "важно распределение исходных данных. Построим при помощи него доверительные интревалы, и посмотрим содержат ли они нуль."
   ]
  },
  {
   "cell_type": "code",
   "execution_count": 290,
   "id": "14f8e62e-15d0-4904-9532-8267aa526ca3",
   "metadata": {},
   "outputs": [
    {
     "data": {
      "image/png": "[encoded data removed]",
      "text/plain": [
       "<Figure size 640x480 with 1 Axes>"
      ]
     },
     "metadata": {},
     "output_type": "display_data"
    },
    {
     "name": "stdout",
     "output_type": "stream",
     "text": [
      "95% доверительный интервал для разницы средних: [-1.28497514  1.35164702]\n",
      "Разница средних не является статистически значимой (0 внутри доверительного интервала).\n"
     ]
    }
   ],
   "source": [
    "# Функция для бутстреппинга разницы средних\n",
    "def bootstrap_diff_means(data1, data2, n_iterations=10000):\n",
    "    diffs = []\n",
    "    for i in range(n_iterations):\n",
    "        # Случайная выборка с заменой из данных\n",
    "        sample1 = np.random.choice(data1, len(data1), replace=True)\n",
    "        sample2 = np.random.choice(data2, len(data2), replace=True)\n",
    "        # Разница средних в текущей итерации\n",
    "        diffs.append(np.mean(sample1) - np.mean(sample2))\n",
    "    return diffs\n",
    "\n",
    "# Сформируем группки\n",
    "group_30 = df[df['version']=='gate_30']['sum_gamerounds']\n",
    "group_40 = df[df['version']=='gate_40']['sum_gamerounds']\n",
    "\n",
    "# Бутстреппинг\n",
    "diffs = bootstrap_diff_means(group_30, group_40)\n",
    "\n",
    "# Визуализация\n",
    "plt.hist(diffs, bins=100, edgecolor='black')\n",
    "plt.axvline(x=np.mean(diffs), color='red', lw = 4, label=f'Средняя разница: {np.mean(diffs):.2f}')\n",
    "plt.axvline(x=np.percentile(diffs, 2.5), color='green', lw = 4, label='2.5% перцентиль')\n",
    "plt.axvline(x=np.percentile(diffs, 97.5), color='green', lw = 4, label='97.5% перцентиль')\n",
    "plt.xlabel('Разница средних')\n",
    "plt.ylabel('Частота')\n",
    "plt.title('Распределение разницы средних (бутстреппинг)')\n",
    "plt.legend()\n",
    "plt.show()\n",
    "\n",
    "# Вычисляем 95% доверительный интервал\n",
    "confidence_interval = np.percentile(diffs, [2.5, 97.5])\n",
    "print(\"95% доверительный интервал для разницы средних:\", confidence_interval)\n",
    "\n",
    "# Проверяем, включает ли доверительный интервал 0\n",
    "if confidence_interval[0] < 0 < confidence_interval[1]:\n",
    "    print(\"Разница средних не является статистически значимой (0 внутри доверительного интервала).\")\n",
    "else:\n",
    "    print(\"Разница средних статистически значима (0 за пределами доверительного интервала).\")"
   ]
  },
  {
   "cell_type": "markdown",
   "id": "496c596c-7b28-4cff-bd7a-fc92fe76586b",
   "metadata": {},
   "source": [
    "**`Вывод:`** <br>\n",
    "**`sum_gamerounds:`** <br>\n",
    "Различия между средними групп gate_30 и gate_40 не являются статистически значимыми.\n",
    "**`Это означает, что изменение уровня первого \"замка\" с 30 на 40 не оказывает значимого влияния на среднее количество пройденных уровней.`**\n"
   ]
  },
  {
   "cell_type": "markdown",
   "id": "972570b2-5a59-483e-b420-3164bd4b5289",
   "metadata": {},
   "source": [
    "### 4. Выводы"
   ]
  },
  {
   "cell_type": "markdown",
   "id": "57bdcd73-3194-450a-9577-063de97fad9c",
   "metadata": {},
   "source": [
    "Ключевые результаты:\n",
    "1) Retention 1 дня в группах gate_30 и gate_40 не различаются статистически значимо (p-value > 0.05). <br>\n",
    "2) Retention 7 дня в группах gate_30 и gate_40 различаются статистически значимо (p-value < 0.05). <br>\n",
    "3) Различия между средними значениями сыгранных раундов не являются статистически значемыми. <br>\n",
    "4) Статистические тесты не подтвердили значимого эффекта от переноса замка на 40-й уровень.\n",
    "\n",
    "Выводы:\n",
    "1) Изменение не улучшает удержание игроков.\n",
    "2) Дополнительные барьеры на 40-м уровне не дают бизнес-выгоды.\n",
    "3) Нет оснований вводить это изменение в игру — оно не приводит к росту метрик вовлеченности.\n",
    "\n",
    "Рекомендации:\n",
    "1) Оставить замок на 30-м уровне, так как перенос не приносит пользы.\n",
    "2) Рассмотреть другие способы увеличения метрик"
   ]
  }
 ],
 "metadata": {
  "kernelspec": {
   "display_name": "Python 3 (ipykernel)",
   "language": "python",
   "name": "python3"
  },
  "language_info": {
   "codemirror_mode": {
    "name": "ipython",
    "version": 3
   },
   "file_extension": ".py",
   "mimetype": "text/x-python",
   "name": "python",
   "nbconvert_exporter": "python",
   "pygments_lexer": "ipython3",
   "version": "3.13.1"
  }
 },
 "nbformat": 4,
 "nbformat_minor": 5
}
